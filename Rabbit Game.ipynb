{
 "cells": [
  {
   "cell_type": "markdown",
   "id": "61ba97dd",
   "metadata": {},
   "source": [
    "# Rabbit Game\n",
    "#### Squid Game's Annoying Little Brother\n",
    "\n",
    "The rabbit game is a programming problem where you are tasked with finding a rabbit hidden amongst some holes in the ground.\n",
    "\n",
    "## Rules\n",
    "\n",
    "1. There are a finite number of holes.\n",
    "2. You can only look in one hole at a time.\n",
    "3. Every time you look at a hole and don't find the rabbit the rabbit jumps to a hole adjacent to where he was previously.\n",
    "4. The rabbit cannot jump from the first hole to the last."
   ]
  },
  {
   "cell_type": "code",
   "execution_count": 3,
   "id": "2cd9654a",
   "metadata": {},
   "outputs": [],
   "source": [
    "import random\n",
    "import math\n",
    "import pandas as pd\n",
    "import numpy as np\n",
    "import matplotlib as mpl\n",
    "import seaborn as sns"
   ]
  },
  {
   "cell_type": "markdown",
   "id": "a5fd16e7",
   "metadata": {},
   "source": [
    "## Setting up the Game"
   ]
  },
  {
   "cell_type": "code",
   "execution_count": 19,
   "id": "7fbd82e9",
   "metadata": {},
   "outputs": [],
   "source": [
    "def game(guess_method):\n",
    "    hole_upper_limit = 100\n",
    "    hole_bottom_limit = 0\n",
    "    rabbit_position = random.randint(0, hole_upper_limit)\n",
    "    turn = 0\n",
    "    max_turns = 1000\n",
    "    arr = []\n",
    "    guess = guess_method(hole_bottom_limit, hole_upper_limit, max_turns)\n",
    "    while turn < max_turns:\n",
    "        turn += 1\n",
    "        rabbit_position = hop(rabbit_position, hole_upper_limit, hole_bottom_limit)\n",
    "        arr.append([turn, rabbit_position])\n",
    "    df = pd.DataFrame(arr, columns=['Turn', 'Rabbit Position'])\n",
    "    df['Guess'] = guess\n",
    "    return df"
   ]
  },
  {
   "cell_type": "code",
   "execution_count": 20,
   "id": "06c78861",
   "metadata": {},
   "outputs": [],
   "source": [
    "def hop(rabbit_position, hole_upper_limit, hole_bottom_limit):\n",
    "    if rabbit_position == hole_bottom_limit:\n",
    "        rabbit_position += 1\n",
    "    elif rabbit_position == hole_upper_limit:\n",
    "        rabbit_position -= 1\n",
    "    else:\n",
    "        if random.randint(0, 1) == 1:\n",
    "            rabbit_position += 1\n",
    "        else:\n",
    "            rabbit_position -= 1\n",
    "    return rabbit_position"
   ]
  },
  {
   "cell_type": "markdown",
   "id": "26b8d3c4",
   "metadata": {},
   "source": [
    "## Defining Inspection Methods"
   ]
  },
  {
   "cell_type": "markdown",
   "id": "fd9eb550",
   "metadata": {},
   "source": [
    "Completely Random"
   ]
  },
  {
   "cell_type": "code",
   "execution_count": 6,
   "id": "525af3cc",
   "metadata": {},
   "outputs": [],
   "source": [
    "def random_inspect(bottom_limit, top_limit, max_turns):\n",
    "    result = []\n",
    "    i = 0\n",
    "    while i < max_turns:\n",
    "        i += 1\n",
    "        result.append(random.randint(bottom_limit, top_limit))\n",
    "    return result"
   ]
  },
  {
   "cell_type": "markdown",
   "id": "e93adfa8",
   "metadata": {},
   "source": [
    "Stay"
   ]
  },
  {
   "cell_type": "code",
   "execution_count": 7,
   "id": "7829915b",
   "metadata": {},
   "outputs": [],
   "source": [
    "def stay(bottom_limit, top_limit, max_turns):\n",
    "    result = []\n",
    "    i = 0\n",
    "    random_number = random.randint(bottom_limit, top_limit)\n",
    "    while i < max_turns:\n",
    "        i += 1\n",
    "        result.append(random_number)\n",
    "    return random_number"
   ]
  },
  {
   "cell_type": "markdown",
   "id": "8b53e3ca",
   "metadata": {},
   "source": [
    "Random w/ Optimal Start"
   ]
  },
  {
   "cell_type": "code",
   "execution_count": 8,
   "id": "241ae9e6",
   "metadata": {},
   "outputs": [],
   "source": [
    "def random_with_optimal_start(bottom_limit, top_limit, max_turns):\n",
    "    result = []\n",
    "    result.append(1)\n",
    "    result.append(1)\n",
    "    i = 2\n",
    "    while i < max_turns:\n",
    "        i += 1\n",
    "        result.append(random.randint(bottom_limit, top_limit))\n",
    "    return result"
   ]
  },
  {
   "cell_type": "markdown",
   "id": "a790f43c",
   "metadata": {},
   "source": [
    "Optimal Start Binary Oscillation"
   ]
  },
  {
   "cell_type": "code",
   "execution_count": 28,
   "id": "6a83cfe0",
   "metadata": {},
   "outputs": [],
   "source": [
    "def optimal_start_binary_oscillation(bottom_limit, top_limit, max_turns):\n",
    "    oscillation = ['even', 'odd']\n",
    "    if bottom_limit % 2 == 0 and top_limit % 2 == 0:\n",
    "        oscillation_start = oscillation[0]\n",
    "    elif bottom_limit % 2 != 0 and top_limit % 2 != 0:\n",
    "        oscillation_start = oscillation[1]\n",
    "    else:\n",
    "        oscillation_start = oscillation[random.randint(0, 1)]\n",
    "    \n",
    "    evens = []\n",
    "    odds = []\n",
    "    for number in range(bottom_limit, top_limit):\n",
    "        if number % 2 == 0:\n",
    "            evens.append(number)\n",
    "        else:\n",
    "            odds.append(number)\n",
    "    \n",
    "    result = []\n",
    "    result.append(1)\n",
    "    result.append(1)\n",
    "    i = 2\n",
    "    k = 0\n",
    "    \n",
    "    if max_turns % 2 != 0 and oscillation_start == 'even':\n",
    "        even_half_max_turns = math.ceil(max_turns / 2)\n",
    "        odd_half_max_turns = max_turns / 2\n",
    "    elif max_turns % 2 != 0 and oscillation_start == 'odd':\n",
    "        odd_half_max_turns = math.ceil(max_turns / 2)\n",
    "        even_half_max_turns = max_turns / 2\n",
    "    else:\n",
    "        odd_half_max_turns = max_turns / 2\n",
    "        even_half_max_turns = max_turns / 2\n",
    "    \n",
    "    if oscillation_start == 'even':\n",
    "        while i < even_half_max_turns:\n",
    "            i += 2\n",
    "            for osc in range(1):\n",
    "                result.append(random.choice(evens))\n",
    "                result.append(random.choice(odds))\n",
    "        while k < odd_half_max_turns:\n",
    "            k += 2\n",
    "            for osc in range(1):\n",
    "                result.append(random.choice(odds))\n",
    "                result.append(random.choice(evens))\n",
    "    elif oscillation_start == 'odd':\n",
    "        while i < odd_half_max_turns:\n",
    "            i += 2\n",
    "            for osc in range(1):\n",
    "                result.append(random.choice(odds))\n",
    "                result.append(random.choice(evens))\n",
    "        while k < even_half_max_turns:\n",
    "            k += 2\n",
    "            for osc in range(1):\n",
    "                result.append(random.choice(evens))\n",
    "                result.append(random.choice(odds))\n",
    "    else:\n",
    "        return\n",
    "    return result"
   ]
  },
  {
   "cell_type": "markdown",
   "id": "41fb6275",
   "metadata": {},
   "source": [
    "## Running the Game"
   ]
  },
  {
   "cell_type": "markdown",
   "id": "1e8aca0a",
   "metadata": {},
   "source": [
    "Random Inspect Method"
   ]
  },
  {
   "cell_type": "code",
   "execution_count": 49,
   "id": "a8ea8f35",
   "metadata": {},
   "outputs": [
    {
     "name": "stdout",
     "output_type": "stream",
     "text": [
      "     Turn  Rabbit Position  Guess\n",
      "0       1                2     23\n",
      "1       2                3     56\n",
      "2       3                4     89\n",
      "3       4                3     85\n",
      "4       5                4      7\n",
      "..    ...              ...    ...\n",
      "995   996                5     26\n",
      "996   997                6     35\n",
      "997   998                5     84\n",
      "998   999                4     41\n",
      "999  1000                5     67\n",
      "\n",
      "[1000 rows x 3 columns]\n"
     ]
    }
   ],
   "source": [
    "random_inspect_result = game(random_inspect)\n",
    "print(random_inspect_result)"
   ]
  },
  {
   "cell_type": "markdown",
   "id": "4d20e05f",
   "metadata": {},
   "source": [
    "Stay Method"
   ]
  },
  {
   "cell_type": "code",
   "execution_count": 23,
   "id": "b6048f71",
   "metadata": {},
   "outputs": [
    {
     "name": "stdout",
     "output_type": "stream",
     "text": [
      "     Turn  Rabbit Position  Guess\n",
      "0       1               56     58\n",
      "1       2               57     58\n",
      "2       3               56     58\n",
      "3       4               57     58\n",
      "4       5               56     58\n",
      "..    ...              ...    ...\n",
      "995   996               11     58\n",
      "996   997               12     58\n",
      "997   998               11     58\n",
      "998   999               12     58\n",
      "999  1000               11     58\n",
      "\n",
      "[1000 rows x 3 columns]\n"
     ]
    }
   ],
   "source": [
    "stay_result = game(stay)\n",
    "print(stay_result)"
   ]
  },
  {
   "cell_type": "markdown",
   "id": "666fc378",
   "metadata": {},
   "source": [
    "Random Inspect Method with Optimal Start"
   ]
  },
  {
   "cell_type": "code",
   "execution_count": 24,
   "id": "91c67f34",
   "metadata": {},
   "outputs": [
    {
     "name": "stdout",
     "output_type": "stream",
     "text": [
      "     Turn  Rabbit Position  Guess\n",
      "0       1               65      1\n",
      "1       2               64      1\n",
      "2       3               65     72\n",
      "3       4               66     58\n",
      "4       5               65     92\n",
      "..    ...              ...    ...\n",
      "995   996               84     27\n",
      "996   997               83     26\n",
      "997   998               82     99\n",
      "998   999               81     56\n",
      "999  1000               80     64\n",
      "\n",
      "[1000 rows x 3 columns]\n"
     ]
    }
   ],
   "source": [
    "random_with_optimal_start_result = game(random_with_optimal_start)\n",
    "print(random_with_optimal_start_result)"
   ]
  },
  {
   "cell_type": "markdown",
   "id": "c308bfa9",
   "metadata": {},
   "source": [
    "Optimal Start Binary Oscillation"
   ]
  },
  {
   "cell_type": "code",
   "execution_count": 29,
   "id": "84971686",
   "metadata": {},
   "outputs": [
    {
     "name": "stdout",
     "output_type": "stream",
     "text": [
      "     Turn  Rabbit Position  Guess\n",
      "0       1               19      1\n",
      "1       2               18      1\n",
      "2       3               17     82\n",
      "3       4               18     91\n",
      "4       5               17     16\n",
      "..    ...              ...    ...\n",
      "995   996                4     40\n",
      "996   997                5     23\n",
      "997   998                4     38\n",
      "998   999                5     23\n",
      "999  1000                4     12\n",
      "\n",
      "[1000 rows x 3 columns]\n"
     ]
    }
   ],
   "source": [
    "optimal_start_binary_oscillation_result = game(optimal_start_binary_oscillation)\n",
    "print(optimal_start_binary_oscillation_result)"
   ]
  },
  {
   "cell_type": "markdown",
   "id": "b0aa779d",
   "metadata": {},
   "source": [
    "## Analyzing the Results"
   ]
  },
  {
   "cell_type": "markdown",
   "id": "c79495cd",
   "metadata": {},
   "source": [
    "Result should be a DataFrame"
   ]
  },
  {
   "cell_type": "code",
   "execution_count": 83,
   "id": "81cc2cd1",
   "metadata": {},
   "outputs": [],
   "source": [
    "def analyze_result(result):\n",
    "    win_loss_array = np.where(result[\"Rabbit Position\"] == result[\"Guess\"], 1, 0)\n",
    "    wins = win_loss_array.nonzero()\n",
    "    return wins"
   ]
  },
  {
   "cell_type": "code",
   "execution_count": 84,
   "id": "5f2ac33e",
   "metadata": {},
   "outputs": [
    {
     "name": "stdout",
     "output_type": "stream",
     "text": [
      "(array([ 80, 100, 108, 131, 243, 316, 321, 377, 379, 491, 800, 960],\n",
      "      dtype=int64),)\n"
     ]
    }
   ],
   "source": [
    "print(analyze_result(random_inspect_result))"
   ]
  },
  {
   "cell_type": "code",
   "execution_count": 85,
   "id": "5c2f64ec",
   "metadata": {},
   "outputs": [
    {
     "name": "stdout",
     "output_type": "stream",
     "text": [
      "(array([], dtype=int64),)\n"
     ]
    }
   ],
   "source": [
    "print(analyze_result(stay_result))"
   ]
  },
  {
   "cell_type": "code",
   "execution_count": 86,
   "id": "7f291de7",
   "metadata": {},
   "outputs": [
    {
     "name": "stdout",
     "output_type": "stream",
     "text": [
      "(array([140, 162, 321, 440, 556, 587, 658, 800, 840, 868, 967], dtype=int64),)\n"
     ]
    }
   ],
   "source": [
    "print(analyze_result(random_with_optimal_start_result))"
   ]
  },
  {
   "cell_type": "code",
   "execution_count": 87,
   "id": "9a500ac0",
   "metadata": {},
   "outputs": [
    {
     "name": "stdout",
     "output_type": "stream",
     "text": [
      "(array([578, 587, 613, 688, 695, 726, 730, 758, 781, 794, 838, 880, 887,\n",
      "       897, 974, 991], dtype=int64),)\n"
     ]
    }
   ],
   "source": [
    "print(analyze_result(optimal_start_binary_oscillation_result))"
   ]
  }
 ],
 "metadata": {
  "kernelspec": {
   "display_name": "Python 3 (ipykernel)",
   "language": "python",
   "name": "python3"
  },
  "language_info": {
   "codemirror_mode": {
    "name": "ipython",
    "version": 3
   },
   "file_extension": ".py",
   "mimetype": "text/x-python",
   "name": "python",
   "nbconvert_exporter": "python",
   "pygments_lexer": "ipython3",
   "version": "3.9.7"
  }
 },
 "nbformat": 4,
 "nbformat_minor": 5
}
